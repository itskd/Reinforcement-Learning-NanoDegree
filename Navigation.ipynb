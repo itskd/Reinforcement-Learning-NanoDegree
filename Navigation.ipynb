{
 "cells": [
  {
   "cell_type": "markdown",
   "metadata": {},
   "source": [
    "# Navigation\n",
    "\n",
    "---\n",
    "\n",
    "In this notebook, you will learn how to use the Unity ML-Agents environment for the first project of the [Deep Reinforcement Learning Nanodegree](https://www.udacity.com/course/deep-reinforcement-learning-nanodegree--nd893).\n",
    "\n",
    "### 1. Start the Environment\n",
    "\n",
    "We begin by importing some necessary packages.  If the code cell below returns an error, please revisit the project instructions to double-check that you have installed [Unity ML-Agents](https://github.com/Unity-Technologies/ml-agents/blob/master/docs/Installation.md) and [NumPy](http://www.numpy.org/)."
   ]
  },
  {
   "cell_type": "code",
   "execution_count": 1,
   "metadata": {},
   "outputs": [],
   "source": [
    "from unityagents import UnityEnvironment\n",
    "import numpy as np\n",
    "import matplotlib.pyplot as plt;"
   ]
  },
  {
   "cell_type": "markdown",
   "metadata": {},
   "source": [
    "### 2. Examine the State and Action Spaces\n",
    "\n",
    "The simulation contains a single agent that navigates a large environment.  At each time step, it has four actions at its disposal:\n",
    "- `0` - walk forward \n",
    "- `1` - walk backward\n",
    "- `2` - turn left\n",
    "- `3` - turn right\n",
    "\n",
    "The state space has `37` dimensions and contains the agent's velocity, along with ray-based perception of objects around agent's forward direction.  A reward of `+1` is provided for collecting a yellow banana, and a reward of `-1` is provided for collecting a blue banana. \n",
    "\n",
    "Run the code cell below to print some information about the environment."
   ]
  },
  {
   "cell_type": "markdown",
   "metadata": {},
   "source": [
    "Environments contain **_brains_** which are responsible for deciding the actions of their associated agents. Here we check for the first brain available, and set it as the default brain we will be controlling from Python."
   ]
  },
  {
   "cell_type": "code",
   "execution_count": 2,
   "metadata": {},
   "outputs": [
    {
     "name": "stderr",
     "output_type": "stream",
     "text": [
      "INFO:unityagents:\n",
      "'Academy' started successfully!\n",
      "Unity Academy name: Academy\n",
      "        Number of Brains: 1\n",
      "        Number of External Brains : 1\n",
      "        Lesson number : 0\n",
      "        Reset Parameters :\n",
      "\t\t\n",
      "Unity brain name: BananaBrain\n",
      "        Number of Visual Observations (per agent): 0\n",
      "        Vector Observation space type: continuous\n",
      "        Vector Observation space size (per agent): 37\n",
      "        Number of stacked Vector Observation: 1\n",
      "        Vector Action space type: discrete\n",
      "        Vector Action space size (per agent): 4\n",
      "        Vector Action descriptions: , , , \n"
     ]
    },
    {
     "name": "stdout",
     "output_type": "stream",
     "text": [
      "Number of agents: 1\n",
      "Number of actions: 4\n",
      "States look like: [1.         0.         0.         0.         0.84408134 0.\n",
      " 0.         1.         0.         0.0748472  0.         1.\n",
      " 0.         0.         0.25755    1.         0.         0.\n",
      " 0.         0.74177343 0.         1.         0.         0.\n",
      " 0.25854847 0.         0.         1.         0.         0.09355672\n",
      " 0.         1.         0.         0.         0.31969345 0.\n",
      " 0.        ]\n",
      "States have length: 37\n"
     ]
    }
   ],
   "source": [
    "env = UnityEnvironment(\"Banana.app\")\n",
    "# reset the environment\n",
    "brain_name = env.brain_names[0];\n",
    "brain = env.brains[brain_name];\n",
    "\n",
    "env_info = env.reset(train_mode=True)[brain_name]\n",
    "\n",
    "# number of agents in the environment\n",
    "print('Number of agents:', len(env_info.agents))\n",
    "\n",
    "# number of actions\n",
    "action_size = brain.vector_action_space_size\n",
    "print('Number of actions:', action_size)\n",
    "\n",
    "# examine the state space \n",
    "state = env_info.vector_observations[0]\n",
    "print('States look like:', state)\n",
    "state_size = len(state)\n",
    "print('States have length:', state_size)"
   ]
  },
  {
   "cell_type": "markdown",
   "metadata": {},
   "source": [
    "Next, we will start the environment!  **_Before running the code cell below_**, change the `file_name` parameter to match the location of the Unity environment that you downloaded.\n",
    "\n",
    "- **Mac**: `\"path/to/Banana.app\"`\n",
    "- **Windows** (x86): `\"path/to/Banana_Windows_x86/Banana.exe\"`\n",
    "- **Windows** (x86_64): `\"path/to/Banana_Windows_x86_64/Banana.exe\"`\n",
    "- **Linux** (x86): `\"path/to/Banana_Linux/Banana.x86\"`\n",
    "- **Linux** (x86_64): `\"path/to/Banana_Linux/Banana.x86_64\"`\n",
    "- **Linux** (x86, headless): `\"path/to/Banana_Linux_NoVis/Banana.x86\"`\n",
    "- **Linux** (x86_64, headless): `\"path/to/Banana_Linux_NoVis/Banana.x86_64\"`\n",
    "\n",
    "For instance, if you are using a Mac, then you downloaded `Banana.app`.  If this file is in the same folder as the notebook, then the line below should appear as follows:\n",
    "```\n",
    "env = UnityEnvironment(file_name=\"Banana.app\")\n",
    "```"
   ]
  },
  {
   "cell_type": "markdown",
   "metadata": {},
   "source": [
    "### 3. Take Random Actions in the Environment\n",
    "\n",
    "In the next code cell, you will learn how to use the Python API to control the agent and receive feedback from the environment.\n",
    "\n",
    "Once this cell is executed, you will watch the agent's performance, if it selects an action (uniformly) at random with each time step.  A window should pop up that allows you to observe the agent, as it moves through the environment.  \n",
    "\n",
    "Of course, as part of the project, you'll have to change the code so that the agent is able to use its experience to gradually choose better actions when interacting with the environment!"
   ]
  },
  {
   "cell_type": "code",
   "execution_count": null,
   "metadata": {},
   "outputs": [],
   "source": [
    "env_info = env.reset(train_mode=False)[brain_name] # reset the environment\n",
    "state = env_info.vector_observations[0]            # get the current state\n",
    "score = 0                                          # initialize the score\n",
    "while True:\n",
    "    action = np.random.randint(action_size)        # select an action\n",
    "    env_info = env.step(action)[brain_name]        # send the action to the environment\n",
    "    next_state = env_info.vector_observations[0]   # get the next state\n",
    "    reward = env_info.rewards[0]                   # get the reward\n",
    "    done = env_info.local_done[0]                  # see if episode has finished\n",
    "    score += reward                                # update the score\n",
    "    state = next_state                             # roll over the state to next time step\n",
    "    if done:                                       # exit loop if episode finished\n",
    "        break\n",
    "    \n",
    "print(\"Score: {}\".format(score))"
   ]
  },
  {
   "cell_type": "markdown",
   "metadata": {},
   "source": [
    "When finished, you can close the environment."
   ]
  },
  {
   "cell_type": "code",
   "execution_count": null,
   "metadata": {
    "scrolled": true
   },
   "outputs": [],
   "source": [
    "env.close()"
   ]
  },
  {
   "cell_type": "markdown",
   "metadata": {},
   "source": [
    "### 4. It's Your Turn!\n",
    "\n",
    "Now it's your turn to train your own agent to solve the environment!  When training the environment, set `train_mode=True`, so that the line for resetting the environment looks like the following:\n",
    "```python\n",
    "env_info = env.reset(train_mode=True)[brain_name]\n",
    "```"
   ]
  },
  {
   "cell_type": "code",
   "execution_count": 2,
   "metadata": {},
   "outputs": [],
   "source": [
    "import torch;\n",
    "import torch.nn as nn;\n",
    "import torch.optim as optim;\n",
    "import torch.nn.functional as F;\n",
    "from collections import namedtuple, deque;\n",
    "from unityagents import UnityEnvironment\n",
    "import random;"
   ]
  },
  {
   "cell_type": "code",
   "execution_count": 3,
   "metadata": {},
   "outputs": [],
   "source": [
    "class QNetwork(nn.Module):\n",
    "    def __init__(self, state_size, action_size, seed, fc1_size=64, fc2_size=64):\n",
    "        super(QNetwork, self).__init__();\n",
    "        \n",
    "        self.state_size = state_size;\n",
    "        self.action_size = action_size;\n",
    "        \n",
    "        self.seed = torch.manual_seed(seed);\n",
    "        self.fc1 = nn.Linear(state_size, fc1_size);\n",
    "        self.fc2 = nn.Linear(fc1_size, fc2_size);\n",
    "        self.fc3 = nn.Linear(fc2_size, action_size);\n",
    "    \n",
    "    def forward(self, state):\n",
    "        x = F.relu(self.fc1(state));\n",
    "        x = F.relu(self.fc2(x));\n",
    "        return self.fc3(x);"
   ]
  },
  {
   "cell_type": "code",
   "execution_count": 4,
   "metadata": {},
   "outputs": [],
   "source": [
    "class DuelingQNetwork(nn.Module):\n",
    "    def __init__(self, state_size, action_size, seed, fc1_size=64, fc2_size=64):\n",
    "        super(DuelingQNetwork, self).__init__();\n",
    "        \n",
    "        self.state_size = state_size;\n",
    "        self.action_size = action_size;\n",
    "        \n",
    "        self.seed = torch.manual_seed(seed);\n",
    "        self.fc1 = nn.Linear(state_size, fc1_size);\n",
    "        self.fc2 = nn.Linear(fc1_size, fc2_size);\n",
    "        \n",
    "        self.value_fc = nn.Linear(fc2_size, 1);\n",
    "        self.advantage_fc = nn.Linear(fc2_size, action_size);\n",
    "        \n",
    "    def forward(self, state):\n",
    "        x = F.relu(self.fc1(state));\n",
    "        x = F.relu(self.fc2(x));\n",
    "        \n",
    "        v = self.value_fc(x);\n",
    "        a = self.advantage_fc(x);\n",
    "        \n",
    "        q = v + a - a.mean(1).unsqueeze(1).expand(x.size(0), self.action_size) / self.action_size;\n",
    "        return q;"
   ]
  },
  {
   "cell_type": "code",
   "execution_count": 5,
   "metadata": {},
   "outputs": [],
   "source": [
    "comp_device = torch.device(\"cuda:0\" if torch.cuda.is_available() else \"cpu\");\n",
    "GAMMA = 0.99; # discount factor\n",
    "LEARNING_RATE = 5e-4; #learning rate\n",
    "BATCH_SIZE = 64;\n",
    "TAU = 1e-3;\n",
    "EPS = 0.1;\n",
    "EPS_LIMIT = 0.01;\n",
    "EPS_DECAY = 0.995;"
   ]
  },
  {
   "cell_type": "code",
   "execution_count": 6,
   "metadata": {},
   "outputs": [],
   "source": [
    "class ReplayBuffer():\n",
    "    def __init__(self, action_size, batch_size, seed):\n",
    "        self.action_size = action_size;\n",
    "        self.buffer = deque(maxlen=int(1e5));\n",
    "        self.batch_size = batch_size;\n",
    "        self.experience = namedtuple(\"Experience\", field_names=[\"state\", \"action\", \"reward\", \"next_state\", \"done\"]);\n",
    "        self.seed = random.seed(seed);\n",
    "    \n",
    "    \n",
    "    def add(self, state, action, reward, next_state, done):\n",
    "        exp = self.experience(state, action, reward, next_state, done);\n",
    "        self.buffer.append(exp);\n",
    "    \n",
    "    def get_sample(self):\n",
    "        experiences = random.sample(self.buffer, k=self.batch_size);\n",
    "        \n",
    "        states = torch.from_numpy(np.vstack([exp.state for exp in experiences if exp is not None])).float()\n",
    "        actions = torch.from_numpy(np.vstack([exp.action for exp in experiences if exp is not None])).long()\n",
    "        rewards = torch.from_numpy(np.vstack([exp.reward for exp in experiences if exp is not None])).float()\n",
    "        next_states = torch.from_numpy(np.vstack([exp.next_state for exp in experiences if exp is not None])).float()\n",
    "        dones = torch.from_numpy(np.vstack([exp.done for exp in experiences if exp is not None]).astype(np.uint8)).float()\n",
    "        \n",
    "        exp_torch = [states, actions, rewards, next_states, dones];\n",
    "        exp_torch = tuple([item.to(comp_device) for item in exp_torch]);\n",
    "        return exp_torch;\n",
    "    \n",
    "    def __len__(self):\n",
    "        return len(self.buffer);"
   ]
  },
  {
   "cell_type": "code",
   "execution_count": 7,
   "metadata": {},
   "outputs": [],
   "source": [
    "class Agent():\n",
    "    def __init__(self, state_size, action_size, seed):\n",
    "        self.state_size = state_size;\n",
    "        self.action_size = action_size;\n",
    "        \n",
    "        self.qnetworks = (DuelingQNetwork(state_size, action_size, seed).to(comp_device), \\\n",
    "                          DuelingQNetwork(state_size, action_size, seed).to(comp_device));\n",
    "        \n",
    "        self.optimizer = optim.Adam(self.qnetworks[0].parameters(), lr=LEARNING_RATE);\n",
    "        \n",
    "        self.replay_buffer = ReplayBuffer(action_size, BATCH_SIZE, seed);\n",
    "        self.time_step = 0;\n",
    "        \n",
    "    def step(self, state, action, reward, next_state, done):\n",
    "        self.replay_buffer.add(state, action, reward, next_state, done);\n",
    "        \n",
    "        # learning happens at every 4 time steps\n",
    "        self.time_step = (self.time_step + 1) % 4;\n",
    "        \n",
    "        if self.time_step == 0:\n",
    "        # learning from the experience replay buffer\n",
    "            if len(self.replay_buffer) > BATCH_SIZE:\n",
    "                experiences = self.replay_buffer.get_sample();\n",
    "                self.learn(experiences, GAMMA);\n",
    "\n",
    "    def act(self, state, epsilon=0.):\n",
    "        # Returns an action using the epsilon greedy policy\n",
    "        state = torch.from_numpy(state).float().unsqueeze(0).to(comp_device);\n",
    "        self.qnetworks[0].eval();\n",
    "        with torch.no_grad():\n",
    "            action_values = self.qnetworks[0](state);\n",
    "        self.qnetworks[0].train();\n",
    "        \n",
    "        # Select action using epsilon-greedy policy\n",
    "        if random.random() > epsilon:\n",
    "            return np.argmax(action_values.cpu().data.numpy());\n",
    "        else:\n",
    "            return random.choice(np.arange(self.action_size));\n",
    "        \n",
    "    def learn(self, experiences, gamma):\n",
    "        # Update values based on experience tuples\n",
    "        \n",
    "        states, actions, rewards, next_states, dones = experiences;\n",
    "        \n",
    "        # get the max predicted q values by running through \"next_states\" on the target model\n",
    "        q_targets_next = self.qnetworks[1](next_states).detach().max(1)[0].unsqueeze(1);\n",
    "\n",
    "        # compute the q targets\n",
    "        q_targets_curr = rewards + (gamma * q_targets_next * (1 - dones));\n",
    "        \n",
    "        # get expected q values from the qnetwork_local model\n",
    "        q_expected = self.qnetworks[0](states).gather(1, actions);\n",
    "        \n",
    "        # compute loss\n",
    "        loss = F.mse_loss(q_expected, q_targets_curr);\n",
    "        \n",
    "        # optimization and backprop\n",
    "        self.optimizer.zero_grad();\n",
    "        loss.backward();\n",
    "        self.optimizer.step();\n",
    "        \n",
    "        self.soft_update(self.qnetworks[0], self.qnetworks[1], TAU);\n",
    "    \n",
    "    def soft_update(self, local_model, target_model, tau):\n",
    "        for target_param, local_param in zip(target_model.parameters(), local_model.parameters()):\n",
    "            target_param.data.copy_(tau*local_param.data + (1.0 - tau)*target_param.data);"
   ]
  },
  {
   "cell_type": "code",
   "execution_count": 9,
   "metadata": {},
   "outputs": [
    {
     "name": "stderr",
     "output_type": "stream",
     "text": [
      "INFO:unityagents:\n",
      "'Academy' started successfully!\n",
      "Unity Academy name: Academy\n",
      "        Number of Brains: 1\n",
      "        Number of External Brains : 1\n",
      "        Lesson number : 0\n",
      "        Reset Parameters :\n",
      "\t\t\n",
      "Unity brain name: BananaBrain\n",
      "        Number of Visual Observations (per agent): 0\n",
      "        Vector Observation space type: continuous\n",
      "        Vector Observation space size (per agent): 37\n",
      "        Number of stacked Vector Observation: 1\n",
      "        Vector Action space type: discrete\n",
      "        Vector Action space size (per agent): 4\n",
      "        Vector Action descriptions: , , , \n"
     ]
    },
    {
     "name": "stdout",
     "output_type": "stream",
     "text": [
      "Episode 100\tAverage Score: -0.04\n",
      "Episode 200\tAverage Score: 0.123\n",
      "Episode 300\tAverage Score: 2.19\n",
      "Episode 400\tAverage Score: 6.90\n",
      "Episode 500\tAverage Score: 10.31\n",
      "Episode 600\tAverage Score: 13.87\n",
      "Episode 700\tAverage Score: 14.35\n",
      "Episode 800\tAverage Score: 14.98\n",
      "Episode 900\tAverage Score: 15.73\n",
      "Episode 1000\tAverage Score: 16.09\n",
      "Episode 1100\tAverage Score: 15.74\n",
      "Episode 1200\tAverage Score: 15.23\n",
      "Episode 1300\tAverage Score: 15.41\n",
      "Episode 1400\tAverage Score: 16.53\n",
      "Episode 1500\tAverage Score: 16.58\n",
      "Episode 1600\tAverage Score: 16.33\n",
      "Episode 1700\tAverage Score: 16.38\n",
      "Episode 1800\tAverage Score: 16.75\n",
      "Episode 1900\tAverage Score: 16.65\n",
      "Episode 2000\tAverage Score: 16.61\n"
     ]
    }
   ],
   "source": [
    "env = UnityEnvironment(file_name=\"Banana.app\")\n",
    "\n",
    "brain_name = env.brain_names[0];\n",
    "brain = env.brains[brain_name];\n",
    "\n",
    "num_iterations = 2000;\n",
    "max_timesteps = 1000;\n",
    "\n",
    "env_info = env.reset(train_mode=True)[brain_name]\n",
    "state = env_info.vector_observations[0]\n",
    "state_size = len(state)\n",
    "\n",
    "action_size = brain.vector_action_space_size;\n",
    "\n",
    "dqn_agent = Agent(state_size, action_size, 1024);\n",
    "\n",
    "scores = [];\n",
    "scores_queue = deque(maxlen=100);\n",
    "discount = EPS;\n",
    "for ite in range(1, num_iterations+1):\n",
    "    score = 0;\n",
    "    env_info= env.reset(train_mode=True)[brain_name];\n",
    "    state = env_info.vector_observations[0];\n",
    "    \n",
    "    for t_step in range(max_timesteps):\n",
    "        action = dqn_agent.act(state, discount);\n",
    "        env_info = env.step(action)[brain_name];\n",
    "        next_state = env_info.vector_observations[0];\n",
    "        \n",
    "        reward = env_info.rewards[0];\n",
    "        done = env_info.local_done[0];\n",
    "        \n",
    "        dqn_agent.step(state, action, reward, next_state, done);\n",
    "        score = score + reward;\n",
    "        state = next_state;\n",
    "        \n",
    "        if done:\n",
    "            break;\n",
    "        \n",
    "    scores.append(score);\n",
    "    scores_queue.append(score);\n",
    "\n",
    "    discount = max(EPS_LIMIT, EPS_DECAY * discount);\n",
    "    print('\\rEpisode {}\\tAverage Score: {:.2f}'.format(ite, np.mean(scores_queue)), end=\"\")\n",
    "    if ite % 100 == 0:\n",
    "        print('\\rEpisode {}\\tAverage Score: {:.2f}'.format(ite, np.mean(scores_queue)))\n",
    "    if np.mean(scores_queue)>=200.0:\n",
    "        print('\\nEnvironment solved in {:d} episodes!\\tAverage Score: {:.2f}'.format(ite-100, np.mean(scores_queue)))\n",
    "        torch.save(agent.qnetworks[0].state_dict(), 'checkpoint-duel.pth')\n",
    "        break"
   ]
  },
  {
   "cell_type": "code",
   "execution_count": 10,
   "metadata": {},
   "outputs": [],
   "source": [
    "torch.save(dqn_agent.qnetworks[0].state_dict(), 'qnetworks_duel_0.pt')\n",
    "torch.save(dqn_agent.qnetworks[1].state_dict(), 'qnetworks_duel_1.pt')"
   ]
  },
  {
   "cell_type": "code",
   "execution_count": 11,
   "metadata": {},
   "outputs": [
    {
     "data": {
      "text/plain": [
       "[<matplotlib.lines.Line2D at 0x115fd7748>]"
      ]
     },
     "execution_count": 11,
     "metadata": {},
     "output_type": "execute_result"
    },
    {
     "data": {
      "image/png": "[encoded data removed]",
      "text/plain": [
       "<Figure size 432x288 with 1 Axes>"
      ]
     },
     "metadata": {
      "needs_background": "light"
     },
     "output_type": "display_data"
    }
   ],
   "source": [
    "plt.plot(np.array(scores))"
   ]
  },
  {
   "cell_type": "code",
   "execution_count": 8,
   "metadata": {},
   "outputs": [
    {
     "name": "stderr",
     "output_type": "stream",
     "text": [
      "INFO:unityagents:\n",
      "'Academy' started successfully!\n",
      "Unity Academy name: Academy\n",
      "        Number of Brains: 1\n",
      "        Number of External Brains : 1\n",
      "        Lesson number : 0\n",
      "        Reset Parameters :\n",
      "\t\t\n",
      "Unity brain name: BananaBrain\n",
      "        Number of Visual Observations (per agent): 0\n",
      "        Vector Observation space type: continuous\n",
      "        Vector Observation space size (per agent): 37\n",
      "        Number of stacked Vector Observation: 1\n",
      "        Vector Action space type: discrete\n",
      "        Vector Action space size (per agent): 4\n",
      "        Vector Action descriptions: , , , \n"
     ]
    },
    {
     "name": "stdout",
     "output_type": "stream",
     "text": [
      "\\Iterations 299\tAverage Score: 17.00\n"
     ]
    }
   ],
   "source": [
    "env = UnityEnvironment(file_name=\"Banana.app\")\n",
    "\n",
    "brain_name = env.brain_names[0]\n",
    "brain = env.brains[brain_name]\n",
    "\n",
    "env_info = env.reset(train_mode=False)[brain_name] # reset the environment\n",
    "state = env_info.vector_observations[0]            # get the current state\n",
    "state_size = len(state)\n",
    "\n",
    "action_size = brain.vector_action_space_size;\n",
    "\n",
    "dqn_agent = Agent(state_size, action_size, 1024);\n",
    "dqn_agent.qnetworks[0].load_state_dict(torch.load('qnetworks_duel_0.pt'))\n",
    "\n",
    "scores = [];\n",
    "env_info = env.reset(train_mode=False)[brain_name];\n",
    "state = env_info.vector_observations[0];\n",
    "score = 0;\n",
    "\n",
    "for ite in range(1000):\n",
    "    action = dqn_agent.act(state);\n",
    "\n",
    "    env_info = env.step(action)[brain_name];\n",
    "    next_state = env_info.vector_observations[0];\n",
    "\n",
    "    reward = env_info.rewards[0];\n",
    "    done = env_info.local_done[0];\n",
    "\n",
    "    #dqn_agent.step(state, action, reward, next_state, done);\n",
    "    score = score + reward;\n",
    "    state = next_state;\n",
    "\n",
    "    if done:\n",
    "        break;\n",
    "\n",
    "print('\\Iterations {}\\tAverage Score: {:.2f}'.format(ite, score))\n",
    "scores.append(score);"
   ]
  },
  {
   "cell_type": "code",
   "execution_count": null,
   "metadata": {},
   "outputs": [],
   "source": []
  }
 ],
 "metadata": {
  "kernelspec": {
   "display_name": "udacity-rl",
   "language": "python",
   "name": "udacity-rl"
  },
  "language_info": {
   "codemirror_mode": {
    "name": "ipython",
    "version": 3
   },
   "file_extension": ".py",
   "mimetype": "text/x-python",
   "name": "python",
   "nbconvert_exporter": "python",
   "pygments_lexer": "ipython3",
   "version": "3.6.9"
  }
 },
 "nbformat": 4,
 "nbformat_minor": 2
}
