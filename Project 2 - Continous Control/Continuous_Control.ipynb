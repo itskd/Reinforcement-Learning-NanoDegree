{
 "cells": [
  {
   "cell_type": "markdown",
   "metadata": {},
   "source": [
    "# Continuous Control\n",
    "\n",
    "---\n",
    "\n",
    "You are welcome to use this coding environment to train your agent for the project.  Follow the instructions below to get started!\n",
    "\n",
    "### 1. Start the Environment\n",
    "\n",
    "Run the next code cell to install a few packages.  This line will take a few minutes to run!"
   ]
  },
  {
   "cell_type": "code",
   "execution_count": 1,
   "metadata": {},
   "outputs": [
    {
     "name": "stdout",
     "output_type": "stream",
     "text": [
      "\u001b[31mtensorflow 1.7.1 has requirement numpy>=1.13.3, but you'll have numpy 1.12.1 which is incompatible.\u001b[0m\r\n",
      "\u001b[31mipython 6.5.0 has requirement prompt-toolkit<2.0.0,>=1.0.15, but you'll have prompt-toolkit 2.0.10 which is incompatible.\u001b[0m\r\n"
     ]
    }
   ],
   "source": [
    "!pip -q install ./python"
   ]
  },
  {
   "cell_type": "markdown",
   "metadata": {},
   "source": [
    "The environments corresponding to both versions of the environment are already saved in the Workspace and can be accessed at the file paths provided below.  \n",
    "\n",
    "Please select one of the two options below for loading the environment."
   ]
  },
  {
   "cell_type": "code",
   "execution_count": 2,
   "metadata": {},
   "outputs": [],
   "source": [
    "from collections import deque;\n",
    "\n",
    "from agent import Agent;\n",
    "from model import Actor, Critic;\n",
    "import torch;\n",
    "import time;"
   ]
  },
  {
   "cell_type": "code",
   "execution_count": 3,
   "metadata": {},
   "outputs": [
    {
     "name": "stderr",
     "output_type": "stream",
     "text": [
      "INFO:unityagents:\n",
      "'Academy' started successfully!\n",
      "Unity Academy name: Academy\n",
      "        Number of Brains: 1\n",
      "        Number of External Brains : 1\n",
      "        Lesson number : 0\n",
      "        Reset Parameters :\n",
      "\t\tgoal_speed -> 1.0\n",
      "\t\tgoal_size -> 5.0\n",
      "Unity brain name: ReacherBrain\n",
      "        Number of Visual Observations (per agent): 0\n",
      "        Vector Observation space type: continuous\n",
      "        Vector Observation space size (per agent): 33\n",
      "        Number of stacked Vector Observation: 1\n",
      "        Vector Action space type: continuous\n",
      "        Vector Action space size (per agent): 4\n",
      "        Vector Action descriptions: , , , \n"
     ]
    }
   ],
   "source": [
    "from unityagents import UnityEnvironment\n",
    "import numpy as np\n",
    "\n",
    "# select this option to load version 1 (with a single agent) of the environment\n",
    "env = UnityEnvironment(file_name='/data/Reacher_One_Linux_NoVis/Reacher_One_Linux_NoVis.x86_64')\n",
    "\n",
    "# select this option to load version 2 (with 20 agents) of the environment\n",
    "# env = UnityEnvironment(file_name='/data/Reacher_Linux_NoVis/Reacher.x86_64')"
   ]
  },
  {
   "cell_type": "markdown",
   "metadata": {},
   "source": [
    "Environments contain **_brains_** which are responsible for deciding the actions of their associated agents. Here we check for the first brain available, and set it as the default brain we will be controlling from Python."
   ]
  },
  {
   "cell_type": "code",
   "execution_count": 4,
   "metadata": {},
   "outputs": [],
   "source": [
    "# get the default brain\n",
    "brain_name = env.brain_names[0]\n",
    "brain = env.brains[brain_name]"
   ]
  },
  {
   "cell_type": "markdown",
   "metadata": {},
   "source": [
    "### 2. Examine the State and Action Spaces\n",
    "\n",
    "Run the code cell below to print some information about the environment."
   ]
  },
  {
   "cell_type": "code",
   "execution_count": 5,
   "metadata": {},
   "outputs": [
    {
     "name": "stdout",
     "output_type": "stream",
     "text": [
      "Number of agents: 1\n",
      "Size of each action: 4\n",
      "There are 1 agents. Each observes a state with length: 33\n",
      "The state for the first agent looks like: [  0.00000000e+00  -4.00000000e+00   0.00000000e+00   1.00000000e+00\n",
      "  -0.00000000e+00  -0.00000000e+00  -4.37113883e-08   0.00000000e+00\n",
      "   0.00000000e+00   0.00000000e+00   0.00000000e+00   0.00000000e+00\n",
      "   0.00000000e+00   0.00000000e+00  -1.00000000e+01   0.00000000e+00\n",
      "   1.00000000e+00  -0.00000000e+00  -0.00000000e+00  -4.37113883e-08\n",
      "   0.00000000e+00   0.00000000e+00   0.00000000e+00   0.00000000e+00\n",
      "   0.00000000e+00   0.00000000e+00   5.75471878e+00  -1.00000000e+00\n",
      "   5.55726671e+00   0.00000000e+00   1.00000000e+00   0.00000000e+00\n",
      "  -1.68164849e-01]\n"
     ]
    }
   ],
   "source": [
    "# reset the environment\n",
    "env_info = env.reset(train_mode=True)[brain_name]\n",
    "\n",
    "# number of agents\n",
    "num_agents = len(env_info.agents)\n",
    "print('Number of agents:', num_agents)\n",
    "\n",
    "# size of each action\n",
    "action_size = brain.vector_action_space_size\n",
    "print('Size of each action:', action_size)\n",
    "\n",
    "# examine the state space \n",
    "states = env_info.vector_observations\n",
    "state_size = states.shape[1]\n",
    "print('There are {} agents. Each observes a state with length: {}'.format(states.shape[0], state_size))\n",
    "print('The state for the first agent looks like:', states[0])"
   ]
  },
  {
   "cell_type": "markdown",
   "metadata": {},
   "source": [
    "### 3. Take Random Actions in the Environment\n",
    "\n",
    "In the next code cell, you will learn how to use the Python API to control the agent and receive feedback from the environment.\n",
    "\n",
    "Note that **in this coding environment, you will not be able to watch the agents while they are training**, and you should set `train_mode=True` to restart the environment."
   ]
  },
  {
   "cell_type": "code",
   "execution_count": 6,
   "metadata": {},
   "outputs": [
    {
     "name": "stdout",
     "output_type": "stream",
     "text": [
      "Total score (averaged over agents) this episode: 0.5099999886006117\n"
     ]
    }
   ],
   "source": [
    "env_info = env.reset(train_mode=True)[brain_name]      # reset the environment    \n",
    "states = env_info.vector_observations                  # get the current state (for each agent)\n",
    "scores = np.zeros(num_agents)                          # initialize the score (for each agent)\n",
    "while True:\n",
    "    actions = np.random.randn(num_agents, action_size) # select an action (for each agent)\n",
    "    actions = np.clip(actions, -1, 1)                  # all actions between -1 and 1\n",
    "    env_info = env.step(actions)[brain_name]           # send all actions to tne environment\n",
    "    next_states = env_info.vector_observations         # get next state (for each agent)\n",
    "    rewards = env_info.rewards                         # get reward (for each agent)\n",
    "    dones = env_info.local_done                        # see if episode finished\n",
    "    scores += env_info.rewards                         # update the score (for each agent)\n",
    "    states = next_states                               # roll over states to next time step\n",
    "    if np.any(dones):                                  # exit loop if episode finished\n",
    "        break\n",
    "print('Total score (averaged over agents) this episode: {}'.format(np.mean(scores)))"
   ]
  },
  {
   "cell_type": "markdown",
   "metadata": {},
   "source": [
    "When finished, you can close the environment."
   ]
  },
  {
   "cell_type": "markdown",
   "metadata": {},
   "source": [
    "### 4. It's Your Turn!\n",
    "\n",
    "Now it's your turn to train your own agent to solve the environment!  A few **important notes**:\n",
    "- When training the environment, set `train_mode=True`, so that the line for resetting the environment looks like the following:\n",
    "```python\n",
    "env_info = env.reset(train_mode=True)[brain_name]\n",
    "```\n",
    "- To structure your work, you're welcome to work directly in this Jupyter notebook, or you might like to start over with a new file!  You can see the list of files in the workspace by clicking on **_Jupyter_** in the top left corner of the notebook.\n",
    "- In this coding environment, you will not be able to watch the agents while they are training.  However, **_after training the agents_**, you can download the saved model weights to watch the agents on your own machine! "
   ]
  },
  {
   "cell_type": "code",
   "execution_count": 7,
   "metadata": {},
   "outputs": [
    {
     "data": {
      "text/plain": [
       "(33, 4, 1)"
      ]
     },
     "execution_count": 7,
     "metadata": {},
     "output_type": "execute_result"
    }
   ],
   "source": [
    "NUM_STATES = env_info.vector_observations.shape[1];\n",
    "NUM_ACTIONS = brain.vector_action_space_size;\n",
    "NUM_AGENTS = len(env_info.agents)\n",
    "\n",
    "NUM_STATES, NUM_ACTIONS, NUM_AGENTS"
   ]
  },
  {
   "cell_type": "code",
   "execution_count": 8,
   "metadata": {},
   "outputs": [],
   "source": [
    "agent = Agent(state_size=NUM_STATES, action_size=NUM_ACTIONS, random_seed=10)"
   ]
  },
  {
   "cell_type": "code",
   "execution_count": 9,
   "metadata": {},
   "outputs": [],
   "source": [
    "def ddpg(n_episodes=5000, max_t=2000):\n",
    "    init_time = time.time();\n",
    "    scores_deque = deque(maxlen=100);\n",
    "    scores = []\n",
    "    max_score = -np.Inf;\n",
    "    \n",
    "    for i_episode in range(1, n_episodes+1):\n",
    "        \n",
    "        ep_init_time = time.time();\n",
    "        env_info = env.reset(train_mode=True)[brain_name];\n",
    "        states = env_info.vector_observations;\n",
    "        \n",
    "        agent.reset();\n",
    "        agent_scores = np.zeros(num_agents);\n",
    "        \n",
    "        for t in range(max_t):\n",
    "            actions = agent.act(states);\n",
    "            next_env_info = env.step(actions)[brain_name];\n",
    "            \n",
    "            next_states, rewards, dones = next_env_info.vector_observations, next_env_info.rewards, next_env_info.local_done;\n",
    "    \n",
    "            agent.step(states, actions, rewards, next_states, dones);\n",
    "            \n",
    "            agent_scores = agent_scores + rewards;\n",
    "            \n",
    "            states = next_states;\n",
    "            \n",
    "        avg_score = np.mean(agent_scores);\n",
    "        scores_deque.append(avg_score);\n",
    "        scores.append(avg_score);\n",
    "\n",
    "        \n",
    "        print('\\rEpisode %d\\t Done in %.2f/%.2f\\t Score: %.2f\\tAvg Score %.2f'%(i_episode, (time.time() - ep_init_time), (time.time() - init_time), avg_score, np.mean(scores_deque)))\n",
    "        \n",
    "        if i_episode % 100 == 0:\n",
    "            torch.save(agent.actor_local.state_dict(), 'checkpoint_actor.pth')\n",
    "            torch.save(agent.critic_local.state_dict(), 'checkpoint_critic.pth')\n",
    "            print('\\nEpisode %d\\t Done in %.2f/%.2fsec\\t Score: %.2f\\tAvg Score %.2f'%(i_episode, (time.time() - ep_init_time), (time.time() - init_time), avg_score, np.mean(scores_deque)))\n",
    "\n",
    "        if np.mean(scores_deque)>=30.0:\n",
    "            torch.save(agent.actor_local.state_dict(), 'checkpoint_actor.pth')\n",
    "            torch.save(agent.critic_local.state_dict(), 'checkpoint_critic.pth')\n",
    "            print('\\Environment Solved: Episodes %d\\t Done in %.2f/%.2f\\t Score: %.2f\\tAvg Score %.2f'%(i_episode, (time.time() - ep_init_time), (time.time() - init_time), avg_score, np.mean(scores_deque)))\n",
    "            break;\n",
    "            \n",
    "    return scores;"
   ]
  },
  {
   "cell_type": "code",
   "execution_count": 10,
   "metadata": {
    "scrolled": true
   },
   "outputs": [
    {
     "name": "stdout",
     "output_type": "stream",
     "text": [
      "starting to\n",
      "Episode 1\t Done in 26.59/26.59\t Score: 0.69\tAvg Score 0.69\n",
      "Episode 2\t Done in 28.06/54.65\t Score: 0.00\tAvg Score 0.34\n",
      "Episode 3\t Done in 28.17/82.82\t Score: 0.90\tAvg Score 0.53\n",
      "Episode 4\t Done in 28.16/110.98\t Score: 1.47\tAvg Score 0.76\n",
      "Episode 5\t Done in 28.28/139.27\t Score: 0.30\tAvg Score 0.67\n",
      "Episode 6\t Done in 28.85/168.12\t Score: 1.74\tAvg Score 0.85\n",
      "Episode 7\t Done in 28.43/196.55\t Score: 0.59\tAvg Score 0.81\n",
      "Episode 8\t Done in 28.56/225.10\t Score: 0.20\tAvg Score 0.74\n",
      "Episode 9\t Done in 28.50/253.61\t Score: 0.86\tAvg Score 0.75\n",
      "Episode 10\t Done in 28.57/282.17\t Score: 1.30\tAvg Score 0.80\n",
      "Episode 11\t Done in 28.53/310.71\t Score: 1.04\tAvg Score 0.83\n",
      "Episode 12\t Done in 28.53/339.23\t Score: 1.33\tAvg Score 0.87\n",
      "Episode 13\t Done in 28.65/367.88\t Score: 1.96\tAvg Score 0.95\n",
      "Episode 14\t Done in 28.66/396.54\t Score: 2.10\tAvg Score 1.03\n",
      "Episode 15\t Done in 28.57/425.11\t Score: 1.40\tAvg Score 1.06\n",
      "Episode 16\t Done in 28.64/453.75\t Score: 2.72\tAvg Score 1.16\n",
      "Episode 17\t Done in 29.06/482.81\t Score: 3.17\tAvg Score 1.28\n",
      "Episode 18\t Done in 28.77/511.58\t Score: 1.33\tAvg Score 1.28\n",
      "Episode 19\t Done in 28.70/540.28\t Score: 3.41\tAvg Score 1.40\n",
      "Episode 20\t Done in 28.76/569.04\t Score: 1.72\tAvg Score 1.41\n",
      "Episode 21\t Done in 28.72/597.77\t Score: 2.28\tAvg Score 1.45\n",
      "Episode 22\t Done in 28.87/626.63\t Score: 2.32\tAvg Score 1.49\n",
      "Episode 23\t Done in 29.03/655.66\t Score: 7.66\tAvg Score 1.76\n",
      "Episode 24\t Done in 28.91/684.58\t Score: 0.89\tAvg Score 1.72\n",
      "Episode 25\t Done in 28.98/713.56\t Score: 3.80\tAvg Score 1.81\n",
      "Episode 26\t Done in 28.74/742.30\t Score: 2.83\tAvg Score 1.85\n",
      "Episode 27\t Done in 28.95/771.24\t Score: 4.34\tAvg Score 1.94\n",
      "Episode 28\t Done in 28.68/799.92\t Score: 4.95\tAvg Score 2.05\n",
      "Episode 29\t Done in 28.77/828.69\t Score: 8.50\tAvg Score 2.27\n",
      "Episode 30\t Done in 28.57/857.26\t Score: 3.78\tAvg Score 2.32\n",
      "Episode 31\t Done in 28.70/885.96\t Score: 5.93\tAvg Score 2.44\n",
      "Episode 32\t Done in 28.65/914.61\t Score: 4.57\tAvg Score 2.50\n",
      "Episode 33\t Done in 28.61/943.22\t Score: 6.15\tAvg Score 2.61\n",
      "Episode 34\t Done in 28.73/971.95\t Score: 5.31\tAvg Score 2.69\n",
      "Episode 35\t Done in 28.73/1000.68\t Score: 4.87\tAvg Score 2.75\n",
      "Episode 36\t Done in 28.75/1029.43\t Score: 4.83\tAvg Score 2.81\n",
      "Episode 37\t Done in 28.87/1058.30\t Score: 4.24\tAvg Score 2.85\n",
      "Episode 38\t Done in 29.40/1087.69\t Score: 4.11\tAvg Score 2.88\n",
      "Episode 39\t Done in 28.99/1116.69\t Score: 7.62\tAvg Score 3.01\n",
      "Episode 40\t Done in 28.86/1145.54\t Score: 5.62\tAvg Score 3.07\n",
      "Episode 41\t Done in 28.83/1174.37\t Score: 9.35\tAvg Score 3.22\n",
      "Episode 42\t Done in 29.02/1203.40\t Score: 6.95\tAvg Score 3.31\n",
      "Episode 43\t Done in 29.63/1233.03\t Score: 6.53\tAvg Score 3.39\n",
      "Episode 44\t Done in 29.56/1262.59\t Score: 7.38\tAvg Score 3.48\n",
      "Episode 45\t Done in 29.23/1291.82\t Score: 6.67\tAvg Score 3.55\n",
      "Episode 46\t Done in 28.88/1320.70\t Score: 7.78\tAvg Score 3.64\n",
      "Episode 47\t Done in 29.26/1349.96\t Score: 7.78\tAvg Score 3.73\n",
      "Episode 48\t Done in 29.02/1378.98\t Score: 7.04\tAvg Score 3.80\n",
      "Episode 49\t Done in 29.36/1408.34\t Score: 12.14\tAvg Score 3.97\n",
      "Episode 50\t Done in 28.83/1437.18\t Score: 13.41\tAvg Score 4.16\n",
      "Episode 51\t Done in 29.29/1466.46\t Score: 9.35\tAvg Score 4.26\n",
      "Episode 52\t Done in 29.35/1495.81\t Score: 8.18\tAvg Score 4.33\n",
      "Episode 53\t Done in 29.29/1525.10\t Score: 8.47\tAvg Score 4.41\n",
      "Episode 54\t Done in 29.28/1554.38\t Score: 9.15\tAvg Score 4.50\n",
      "Episode 55\t Done in 29.35/1583.73\t Score: 14.40\tAvg Score 4.68\n",
      "Episode 56\t Done in 29.33/1613.06\t Score: 15.10\tAvg Score 4.87\n",
      "Episode 57\t Done in 29.42/1642.48\t Score: 13.27\tAvg Score 5.01\n",
      "Episode 58\t Done in 29.53/1672.01\t Score: 11.32\tAvg Score 5.12\n",
      "Episode 59\t Done in 29.94/1701.96\t Score: 12.42\tAvg Score 5.25\n",
      "Episode 60\t Done in 29.61/1731.57\t Score: 20.77\tAvg Score 5.50\n",
      "Episode 61\t Done in 29.59/1761.16\t Score: 15.87\tAvg Score 5.67\n",
      "Episode 62\t Done in 29.83/1790.99\t Score: 18.24\tAvg Score 5.88\n",
      "Episode 63\t Done in 29.98/1820.97\t Score: 19.45\tAvg Score 6.09\n",
      "Episode 64\t Done in 29.82/1850.79\t Score: 19.83\tAvg Score 6.31\n",
      "Episode 65\t Done in 29.87/1880.66\t Score: 20.39\tAvg Score 6.52\n",
      "Episode 66\t Done in 29.83/1910.49\t Score: 19.49\tAvg Score 6.72\n",
      "Episode 67\t Done in 29.70/1940.19\t Score: 14.00\tAvg Score 6.83\n",
      "Episode 68\t Done in 29.89/1970.08\t Score: 19.75\tAvg Score 7.02\n",
      "Episode 69\t Done in 30.08/2000.16\t Score: 24.40\tAvg Score 7.27\n",
      "Episode 70\t Done in 30.22/2030.38\t Score: 20.32\tAvg Score 7.46\n",
      "Episode 71\t Done in 29.92/2060.30\t Score: 14.74\tAvg Score 7.56\n",
      "Episode 72\t Done in 29.91/2090.21\t Score: 18.75\tAvg Score 7.72\n",
      "Episode 73\t Done in 29.93/2120.14\t Score: 11.78\tAvg Score 7.77\n",
      "Episode 74\t Done in 29.79/2149.93\t Score: 19.12\tAvg Score 7.92\n",
      "Episode 75\t Done in 29.72/2179.65\t Score: 16.78\tAvg Score 8.04\n",
      "Episode 76\t Done in 29.80/2209.45\t Score: 20.35\tAvg Score 8.20\n",
      "Episode 77\t Done in 30.00/2239.45\t Score: 13.07\tAvg Score 8.27\n",
      "Episode 78\t Done in 29.75/2269.20\t Score: 7.78\tAvg Score 8.26\n",
      "Episode 79\t Done in 29.84/2299.05\t Score: 17.77\tAvg Score 8.38\n",
      "Episode 80\t Done in 29.96/2329.01\t Score: 14.85\tAvg Score 8.46\n",
      "Episode 81\t Done in 29.81/2358.82\t Score: 14.02\tAvg Score 8.53\n",
      "Episode 82\t Done in 29.65/2388.47\t Score: 19.35\tAvg Score 8.66\n",
      "Episode 83\t Done in 29.66/2418.12\t Score: 26.83\tAvg Score 8.88\n",
      "Episode 84\t Done in 29.62/2447.75\t Score: 17.17\tAvg Score 8.98\n",
      "Episode 85\t Done in 29.61/2477.36\t Score: 21.00\tAvg Score 9.12\n",
      "Episode 86\t Done in 29.67/2507.02\t Score: 24.08\tAvg Score 9.30\n",
      "Episode 87\t Done in 29.68/2536.70\t Score: 11.74\tAvg Score 9.32\n",
      "Episode 88\t Done in 29.66/2566.36\t Score: 21.82\tAvg Score 9.47\n",
      "Episode 89\t Done in 29.91/2596.27\t Score: 20.06\tAvg Score 9.59\n",
      "Episode 90\t Done in 29.69/2625.97\t Score: 29.11\tAvg Score 9.80\n",
      "Episode 91\t Done in 29.81/2655.77\t Score: 10.02\tAvg Score 9.80\n",
      "Episode 92\t Done in 29.64/2685.42\t Score: 38.43\tAvg Score 10.12\n",
      "Episode 93\t Done in 29.83/2715.25\t Score: 12.42\tAvg Score 10.14\n",
      "Episode 94\t Done in 29.57/2744.82\t Score: 10.41\tAvg Score 10.14\n",
      "Episode 95\t Done in 29.53/2774.35\t Score: 16.61\tAvg Score 10.21\n",
      "Episode 96\t Done in 29.61/2803.95\t Score: 17.48\tAvg Score 10.29\n",
      "Episode 97\t Done in 29.58/2833.53\t Score: 27.92\tAvg Score 10.47\n",
      "Episode 98\t Done in 29.46/2863.00\t Score: 18.73\tAvg Score 10.55\n",
      "Episode 99\t Done in 29.53/2892.53\t Score: 22.27\tAvg Score 10.67\n",
      "Episode 100\t Done in 29.73/2922.26\t Score: 20.61\tAvg Score 10.77\n",
      "\n",
      "Episode 100\t Done in 29.96/2922.49sec\t Score: 20.61\tAvg Score 10.77\n",
      "Episode 101\t Done in 29.56/2952.05\t Score: 25.96\tAvg Score 11.02\n",
      "Episode 102\t Done in 29.19/2981.25\t Score: 22.10\tAvg Score 11.24\n",
      "Episode 103\t Done in 29.17/3010.41\t Score: 21.89\tAvg Score 11.45\n",
      "Episode 104\t Done in 29.10/3039.51\t Score: 23.32\tAvg Score 11.67\n",
      "Episode 105\t Done in 29.12/3068.64\t Score: 32.24\tAvg Score 11.99\n",
      "Episode 106\t Done in 29.07/3097.71\t Score: 34.17\tAvg Score 12.32\n",
      "Episode 107\t Done in 29.08/3126.79\t Score: 17.79\tAvg Score 12.49\n",
      "Episode 108\t Done in 29.10/3155.89\t Score: 32.18\tAvg Score 12.81\n",
      "Episode 109\t Done in 28.88/3184.77\t Score: 38.09\tAvg Score 13.18\n",
      "Episode 110\t Done in 28.97/3213.73\t Score: 32.45\tAvg Score 13.49\n",
      "Episode 111\t Done in 28.75/3242.48\t Score: 27.77\tAvg Score 13.76\n",
      "Episode 112\t Done in 29.14/3271.62\t Score: 35.46\tAvg Score 14.10\n",
      "Episode 113\t Done in 28.91/3300.53\t Score: 28.07\tAvg Score 14.36\n",
      "Episode 114\t Done in 28.88/3329.42\t Score: 40.75\tAvg Score 14.75\n",
      "Episode 115\t Done in 28.91/3358.33\t Score: 40.16\tAvg Score 15.14\n",
      "Episode 116\t Done in 28.93/3387.26\t Score: 41.53\tAvg Score 15.52\n",
      "Episode 117\t Done in 28.95/3416.21\t Score: 19.78\tAvg Score 15.69\n",
      "Episode 118\t Done in 29.02/3445.23\t Score: 36.82\tAvg Score 16.05\n",
      "Episode 119\t Done in 28.95/3474.18\t Score: 38.78\tAvg Score 16.40\n",
      "Episode 120\t Done in 29.00/3503.18\t Score: 40.24\tAvg Score 16.78\n",
      "Episode 121\t Done in 29.16/3532.34\t Score: 64.01\tAvg Score 17.40\n",
      "Episode 122\t Done in 29.10/3561.44\t Score: 38.34\tAvg Score 17.76\n",
      "Episode 123\t Done in 29.18/3590.62\t Score: 45.28\tAvg Score 18.14\n",
      "Episode 124\t Done in 29.05/3619.67\t Score: 45.47\tAvg Score 18.58\n",
      "Episode 125\t Done in 28.93/3648.60\t Score: 50.23\tAvg Score 19.05\n",
      "Episode 126\t Done in 28.99/3677.59\t Score: 45.82\tAvg Score 19.48\n",
      "Episode 127\t Done in 28.93/3706.52\t Score: 77.20\tAvg Score 20.21\n",
      "Episode 128\t Done in 28.95/3735.47\t Score: 69.64\tAvg Score 20.85\n",
      "Episode 129\t Done in 28.94/3764.41\t Score: 57.78\tAvg Score 21.35\n",
      "Episode 130\t Done in 28.98/3793.39\t Score: 57.98\tAvg Score 21.89\n",
      "Episode 131\t Done in 29.08/3822.46\t Score: 51.97\tAvg Score 22.35\n",
      "Episode 132\t Done in 28.93/3851.40\t Score: 74.85\tAvg Score 23.05\n",
      "Episode 133\t Done in 29.19/3880.59\t Score: 59.51\tAvg Score 23.58\n",
      "Episode 134\t Done in 29.06/3909.65\t Score: 68.16\tAvg Score 24.21\n",
      "Episode 135\t Done in 29.04/3938.70\t Score: 73.00\tAvg Score 24.89\n",
      "Episode 136\t Done in 28.93/3967.63\t Score: 68.09\tAvg Score 25.53\n",
      "Episode 137\t Done in 28.99/3996.62\t Score: 64.76\tAvg Score 26.13\n",
      "Episode 138\t Done in 29.00/4025.62\t Score: 76.95\tAvg Score 26.86\n",
      "Episode 139\t Done in 29.01/4054.63\t Score: 60.68\tAvg Score 27.39\n",
      "Episode 140\t Done in 28.90/4083.53\t Score: 69.49\tAvg Score 28.03\n",
      "Episode 141\t Done in 29.06/4112.58\t Score: 51.34\tAvg Score 28.45\n",
      "Episode 142\t Done in 29.22/4141.81\t Score: 75.98\tAvg Score 29.14\n",
      "Episode 143\t Done in 29.02/4170.83\t Score: 59.69\tAvg Score 29.67\n",
      "Episode 144\t Done in 29.31/4200.14\t Score: 65.39\tAvg Score 30.25\n",
      "\\Environment Solved: Episodes 144\t Done in 29.31/4200.14\t Score: 65.39\tAvg Score 30.25\n"
     ]
    },
    {
     "data": {
      "text/plain": [
       "[0.68999998457729816,\n",
       " 0.0,\n",
       " 0.89999997988343239,\n",
       " 1.4699999671429396,\n",
       " 0.29999999329447746,\n",
       " 1.7399999611079693,\n",
       " 0.58999998681247234,\n",
       " 0.19999999552965164,\n",
       " 0.85999998077750206,\n",
       " 1.2999999709427357,\n",
       " 1.0399999767541885,\n",
       " 1.3299999702721834,\n",
       " 1.9599999561905861,\n",
       " 2.0999999530613422,\n",
       " 1.3999999687075615,\n",
       " 2.7199999392032623,\n",
       " 3.1699999291449785,\n",
       " 1.3299999702721834,\n",
       " 3.4099999237805605,\n",
       " 1.7199999615550041,\n",
       " 2.2799999490380287,\n",
       " 2.319999948143959,\n",
       " 7.6599998287856579,\n",
       " 0.88999998010694981,\n",
       " 3.7999999150633812,\n",
       " 2.8299999367445707,\n",
       " 4.3399999029934406,\n",
       " 4.9499998893588781,\n",
       " 8.4999998100101948,\n",
       " 3.779999915510416,\n",
       " 5.9299998674541712,\n",
       " 4.56999989785254,\n",
       " 6.149999862536788,\n",
       " 5.3099998813122511,\n",
       " 4.8699998911470175,\n",
       " 4.8299998920410872,\n",
       " 4.2399999052286148,\n",
       " 4.1099999081343412,\n",
       " 7.6199998296797276,\n",
       " 5.6199998743832111,\n",
       " 9.3499997910112143,\n",
       " 6.9499998446553946,\n",
       " 6.5299998540431261,\n",
       " 7.3799998350441456,\n",
       " 6.6699998509138823,\n",
       " 7.7799998261034489,\n",
       " 7.7799998261034489,\n",
       " 7.0399998426437378,\n",
       " 12.139999728649855,\n",
       " 13.409999700263143,\n",
       " 9.3499997910112143,\n",
       " 8.1799998171627522,\n",
       " 8.469999810680747,\n",
       " 9.1499997954815626,\n",
       " 14.399999678134918,\n",
       " 15.099999662488699,\n",
       " 13.269999703392386,\n",
       " 11.319999746978283,\n",
       " 12.419999722391367,\n",
       " 20.769999535754323,\n",
       " 15.869999645277858,\n",
       " 18.23999959230423,\n",
       " 19.449999565258622,\n",
       " 19.82999955676496,\n",
       " 20.389999544247985,\n",
       " 19.489999564364552,\n",
       " 13.999999687075615,\n",
       " 19.7499995585531,\n",
       " 24.3999994546175,\n",
       " 20.319999545812607,\n",
       " 14.739999670535326,\n",
       " 18.749999580904841,\n",
       " 11.779999736696482,\n",
       " 19.119999572634697,\n",
       " 16.779999624937773,\n",
       " 20.349999545142055,\n",
       " 13.069999707862735,\n",
       " 7.7799998261034489,\n",
       " 17.769999602809548,\n",
       " 14.849999668076634,\n",
       " 14.01999968662858,\n",
       " 19.349999567493796,\n",
       " 26.829999400302768,\n",
       " 17.169999616220593,\n",
       " 20.999999530613422,\n",
       " 24.079999461770058,\n",
       " 11.739999737590551,\n",
       " 21.819999512284994,\n",
       " 20.05999955162406,\n",
       " 29.109999349340796,\n",
       " 10.019999776035547,\n",
       " 38.429999141022563,\n",
       " 12.419999722391367,\n",
       " 10.409999767318368,\n",
       " 16.609999628737569,\n",
       " 17.479999609291553,\n",
       " 27.919999375939369,\n",
       " 18.729999581351876,\n",
       " 22.26999950222671,\n",
       " 20.609999539330602,\n",
       " 25.959999419748783,\n",
       " 22.099999506026506,\n",
       " 21.889999510720372,\n",
       " 23.319999478757381,\n",
       " 32.239999279379845,\n",
       " 34.169999236240983,\n",
       " 17.789999602362514,\n",
       " 32.179999280720949,\n",
       " 38.089999148622155,\n",
       " 32.449999274685979,\n",
       " 27.76999937929213,\n",
       " 35.459999207407236,\n",
       " 28.069999372586608,\n",
       " 40.749999089166522,\n",
       " 40.15999910235405,\n",
       " 41.529999071732163,\n",
       " 19.779999557882547,\n",
       " 36.819999177008867,\n",
       " 38.779999133199453,\n",
       " 40.23999910056591,\n",
       " 64.009998569265008,\n",
       " 38.33999914303422,\n",
       " 45.279998987913132,\n",
       " 45.469998983666301,\n",
       " 50.22999887727201,\n",
       " 45.819998975843191,\n",
       " 77.199998274445534,\n",
       " 69.639998443424702,\n",
       " 57.779998708516359,\n",
       " 57.979998704046011,\n",
       " 51.969998838379979,\n",
       " 74.849998326972127,\n",
       " 59.509998669847846,\n",
       " 68.15999847650528,\n",
       " 72.999998368322849,\n",
       " 68.089998478069901,\n",
       " 64.759998552501202,\n",
       " 76.949998280033469,\n",
       " 60.679998643696308,\n",
       " 69.489998446777463,\n",
       " 51.339998852461576,\n",
       " 75.979998301714659,\n",
       " 59.689998665824533,\n",
       " 65.389998538419604]"
      ]
     },
     "execution_count": 10,
     "metadata": {},
     "output_type": "execute_result"
    }
   ],
   "source": [
    "print('starting to');\n",
    "scores = ddpg(500);\n",
    "scores"
   ]
  },
  {
   "cell_type": "code",
   "execution_count": 25,
   "metadata": {},
   "outputs": [
    {
     "name": "stderr",
     "output_type": "stream",
     "text": [
      "/opt/conda/lib/python3.6/site-packages/numpy/core/fromnumeric.py:2889: RuntimeWarning: Mean of empty slice.\n",
      "  out=out, **kwargs)\n",
      "/opt/conda/lib/python3.6/site-packages/numpy/core/_methods.py:80: RuntimeWarning: invalid value encountered in double_scalars\n",
      "  ret = ret.dtype.type(ret / rcount)\n"
     ]
    }
   ],
   "source": [
    "windowed_scores = [];\n",
    "for posit in range(len(scores)):\n",
    "    if posit < 100:\n",
    "        window_avg = np.mean(scores[:posit])\n",
    "    else:\n",
    "        window_avg = np.mean(scores[posit - 100: posit]);\n",
    "    windowed_scores.append(window_avg);"
   ]
  },
  {
   "cell_type": "code",
   "execution_count": 33,
   "metadata": {},
   "outputs": [
    {
     "data": {
      "text/plain": [
       "<matplotlib.legend.Legend at 0x7fdde05554a8>"
      ]
     },
     "execution_count": 33,
     "metadata": {},
     "output_type": "execute_result"
    },
    {
     "data": {
      "image/png": "[encoded data removed]",
      "text/plain": [
       "<matplotlib.figure.Figure at 0x7fdde0624d68>"
      ]
     },
     "metadata": {
      "needs_background": "light"
     },
     "output_type": "display_data"
    }
   ],
   "source": [
    "import matplotlib.pyplot as plt;\n",
    "%matplotlib inline\n",
    "\n",
    "plt.figure(figsize=(20,10))\n",
    "plt.plot(scores, label='score')\n",
    "plt.axhline(y=30, linestyle='dashed')\n",
    "plt.plot(windowed_scores, c='red', label='avg. over 100 epochs')\n",
    "plt.legend()"
   ]
  }
 ],
 "metadata": {
  "kernelspec": {
   "display_name": "Python 3",
   "language": "python",
   "name": "python3"
  },
  "language_info": {
   "codemirror_mode": {
    "name": "ipython",
    "version": 3
   },
   "file_extension": ".py",
   "mimetype": "text/x-python",
   "name": "python",
   "nbconvert_exporter": "python",
   "pygments_lexer": "ipython3",
   "version": "3.6.3"
  }
 },
 "nbformat": 4,
 "nbformat_minor": 2
}
